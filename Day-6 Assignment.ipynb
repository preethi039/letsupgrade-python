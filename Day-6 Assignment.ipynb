{
 "cells": [
  {
   "cell_type": "markdown",
   "metadata": {},
   "source": [
    "# Q-1"
   ]
  },
  {
   "cell_type": "code",
   "execution_count": 1,
   "metadata": {},
   "outputs": [
    {
     "name": "stdout",
     "output_type": "stream",
     "text": [
      "Enter amount to be deposited: 50000\n",
      "50000.00Rs. Deposited in the bank account of Raman Verma\n",
      "Enter amount to be withdrawn: 25000\n",
      "Raman Verma Withdrew 25000.000000\n",
      "Current Balance: 25000.0\n",
      "Enter amount to be deposited: 30000\n",
      "30000.00Rs. Deposited in the bank account of Raman Verma\n",
      "Enter amount to be withdrawn: 25999\n",
      "Raman Verma Withdrew 25999.000000\n"
     ]
    }
   ],
   "source": [
    "class bankAccount():\n",
    "  def __init__(self,ownerName,Balance):\n",
    "    self.ownerName = ownerName\n",
    "    self.Balance = Balance\n",
    "\n",
    "  def deposit(self):\n",
    "    amount = float(input(\"Enter amount to be deposited: \")) \n",
    "    self.Balance += amount \n",
    "    print(\"%.2fRs. Deposited in the bank account of %s\"%(amount, self.ownerName))\n",
    "  \n",
    "  def withdraw(self): \n",
    "    amount = float(input(\"Enter amount to be withdrawn: \")) \n",
    "    if self.Balance >= amount: \n",
    "      self.Balance -= amount \n",
    "      print(\"%s Withdrew %f\"%(self.ownerName,amount)) \n",
    "    else: \n",
    "      print(\"Insufficient balance\")\n",
    "\n",
    "  def checkBal(self):\n",
    "    print(\"Current Balance:\",self.Balance)\n",
    "\n",
    "b = bankAccount(\"Raman Verma\", 0)\n",
    "b.deposit()\n",
    "b.withdraw()\n",
    "b.checkBal()\n",
    "b.deposit()\n",
    "b.withdraw()"
   ]
  },
  {
   "cell_type": "markdown",
   "metadata": {},
   "source": [
    "# Q-2"
   ]
  },
  {
   "cell_type": "code",
   "execution_count": 2,
   "metadata": {},
   "outputs": [
    {
     "data": {
      "text/plain": [
       "'Surface Area: 163.13'"
      ]
     },
     "execution_count": 2,
     "metadata": {},
     "output_type": "execute_result"
    }
   ],
   "source": [
    "import math\n",
    "\n",
    "class cone():\n",
    "  def __init__(self,radius,height):\n",
    "    self.radius = radius\n",
    "    self.height = height\n",
    "\n",
    "  def volume(self):\n",
    "    v = (math.pi)*pow(self.radius,2)*(self.height/3)\n",
    "    return (\"Volume: %.2f\"%v)\n",
    "\n",
    "  def area(self):\n",
    "    a = (math.pi)*self.radius*(self.radius+math.sqrt((pow(self.radius,2)+pow(self.height,2))))\n",
    "    return (\"Surface Area: %.2f\"%a)\n",
    "\n",
    "vol = cone(5,2)\n",
    "vol.volume()\n",
    "vol.area()"
   ]
  },
  {
   "cell_type": "code",
   "execution_count": null,
   "metadata": {},
   "outputs": [],
   "source": []
  }
 ],
 "metadata": {
  "kernelspec": {
   "display_name": "Python 3",
   "language": "python",
   "name": "python3"
  },
  "language_info": {
   "codemirror_mode": {
    "name": "ipython",
    "version": 3
   },
   "file_extension": ".py",
   "mimetype": "text/x-python",
   "name": "python",
   "nbconvert_exporter": "python",
   "pygments_lexer": "ipython3",
   "version": "3.7.6"
  }
 },
 "nbformat": 4,
 "nbformat_minor": 4
}

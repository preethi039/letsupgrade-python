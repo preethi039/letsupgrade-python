{
 "cells": [
  {
   "cell_type": "markdown",
   "metadata": {},
   "source": [
    "# Q-1"
   ]
  },
  {
   "cell_type": "code",
   "execution_count": 1,
   "metadata": {},
   "outputs": [
    {
     "name": "stdout",
     "output_type": "stream",
     "text": [
      "Overwriting checkprime.py\n"
     ]
    }
   ],
   "source": [
    "%%writefile checkprime.py\n",
    "\n",
    "'''\n",
    "No modules required for this check\n",
    "'''\n",
    "def prime(number):\n",
    "    '''\n",
    "    Check prime number function\n",
    "    '''\n",
    "    if number > 1:\n",
    "        for i in range(2, number):\n",
    "            if (number % i) == 0:\n",
    "                return \"Not a prime number\"\n",
    "        else:\n",
    "            return \"Prime number\"\n",
    "    else:\n",
    "        return \"Not a prime number\""
   ]
  },
  {
   "cell_type": "code",
   "execution_count": 2,
   "metadata": {},
   "outputs": [
    {
     "name": "stdout",
     "output_type": "stream",
     "text": [
      "Overwriting testcheckprime.py\n"
     ]
    }
   ],
   "source": [
    "%%writefile testcheckprime.py\n",
    "\n",
    "'''\n",
    "Import required modules\n",
    "'''\n",
    "import unittest\n",
    "from problem1 import prime\n",
    "\n",
    "\n",
    "class TestPrime(unittest.TestCase):\n",
    "    '''\n",
    "    create a class named TestPrime to write tests for our function\n",
    "    '''\n",
    "\n",
    "    def test_not_prime(self):\n",
    "        '''\n",
    "        This is to test if our function is reporting non prime numbers correctly\n",
    "        '''\n",
    "        non_prime = 15\n",
    "        self.assertEqual(prime(non_prime), \"Not a prime number\")\n",
    "\n",
    "    def test_prime(self):\n",
    "        '''\n",
    "        This is to test if our function is reporting prime numbers correctly\n",
    "        '''\n",
    "        prime_number = 47\n",
    "        result = prime(prime_number)\n",
    "        self.assertEqual(result, \"Prime number\")\n",
    "\n",
    "if __name__ == \"__main__\":\n",
    "    unittest.main()"
   ]
  },
  {
   "cell_type": "code",
   "execution_count": null,
   "metadata": {},
   "outputs": [],
   "source": [
    "python testcheckprime.py"
   ]
  },
  {
   "cell_type": "code",
   "execution_count": null,
   "metadata": {},
   "outputs": [],
   "source": [
    "pylint checkprime.py\n",
    "pylint testcheckprime.py"
   ]
  },
  {
   "cell_type": "markdown",
   "metadata": {},
   "source": [
    "# Q-2"
   ]
  },
  {
   "cell_type": "code",
   "execution_count": 5,
   "metadata": {},
   "outputs": [
    {
     "name": "stdout",
     "output_type": "stream",
     "text": [
      "[1, 2, 3, 4, 5, 6, 7, 8, 9, 153, 370, 371, 407]\n"
     ]
    }
   ],
   "source": [
    "def ArmStrong(n):\n",
    "  for i in n:\n",
    "    l = len(str(i))\n",
    "    sum = 0\n",
    "    temp = i\n",
    "  \n",
    "    while temp > 0:\n",
    "        d = temp % 10\n",
    "        sum += d ** l\n",
    "        temp //= 10\n",
    "\n",
    "    if i == sum:\n",
    "        yield i\n",
    "\n",
    "lst = list(range(1,1000))\n",
    "print(list(ArmStrong(lst)))"
   ]
  },
  {
   "cell_type": "code",
   "execution_count": null,
   "metadata": {},
   "outputs": [],
   "source": []
  }
 ],
 "metadata": {
  "kernelspec": {
   "display_name": "Python 3",
   "language": "python",
   "name": "python3"
  },
  "language_info": {
   "codemirror_mode": {
    "name": "ipython",
    "version": 3
   },
   "file_extension": ".py",
   "mimetype": "text/x-python",
   "name": "python",
   "nbconvert_exporter": "python",
   "pygments_lexer": "ipython3",
   "version": "3.7.6"
  }
 },
 "nbformat": 4,
 "nbformat_minor": 4
}

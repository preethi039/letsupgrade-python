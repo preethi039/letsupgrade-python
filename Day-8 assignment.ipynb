{
 "cells": [
  {
   "cell_type": "markdown",
   "metadata": {},
   "source": [
    "# Q-1"
   ]
  },
  {
   "cell_type": "code",
   "execution_count": 1,
   "metadata": {},
   "outputs": [
    {
     "name": "stdout",
     "output_type": "stream",
     "text": [
      "Enter the a number to print Fibonacci series until that range.\n",
      "5\n",
      "0 1 1 2 3 "
     ]
    }
   ],
   "source": [
    "def input_func(fib_range):\n",
    "  def wrap_function():\n",
    "    print(\"Enter the a number to print Fibonacci series until that range.\")\n",
    "    a = int(input())\n",
    "    fib_range(a)\n",
    "  return wrap_function\n",
    "\n",
    "\n",
    "@input_func\n",
    "def Fibonacci(num):\n",
    "    num1 = 0\n",
    "    num2 = 1\n",
    "    series = 0\n",
    "    for i in range(num):\n",
    "        print(series, end=' ')\n",
    "        num1 = num2\n",
    "        num2 = series\n",
    "        series = num1 + num2\n",
    "\n",
    "Fibonacci()"
   ]
  },
  {
   "cell_type": "markdown",
   "metadata": {},
   "source": [
    "# Q-2"
   ]
  },
  {
   "cell_type": "code",
   "execution_count": null,
   "metadata": {},
   "outputs": [],
   "source": [
    "from io import UnsupportedOperation\n",
    "\n",
    "try:\n",
    "    with open(\"f.txt\", \"r\") as f:\n",
    "        f.write ('This is python.')\n",
    "except UnsupportedOperation:\n",
    "    print(\"Cannot write to a file in read only mode\")"
   ]
  }
 ],
 "metadata": {
  "kernelspec": {
   "display_name": "Python 3",
   "language": "python",
   "name": "python3"
  },
  "language_info": {
   "codemirror_mode": {
    "name": "ipython",
    "version": 3
   },
   "file_extension": ".py",
   "mimetype": "text/x-python",
   "name": "python",
   "nbconvert_exporter": "python",
   "pygments_lexer": "ipython3",
   "version": "3.7.6"
  }
 },
 "nbformat": 4,
 "nbformat_minor": 4
}
